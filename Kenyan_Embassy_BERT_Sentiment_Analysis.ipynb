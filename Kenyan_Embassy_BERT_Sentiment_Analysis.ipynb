{
  "nbformat": 4,
  "nbformat_minor": 0,
  "metadata": {
    "colab": {
      "name": "Kenyan_Embassy_BERT_Sentiment_Analysis.ipynb",
      "provenance": [],
      "include_colab_link": true
    },
    "kernelspec": {
      "name": "python3",
      "display_name": "Python 3"
    },
    "language_info": {
      "name": "python"
    }
  },
  "cells": [
    {
      "cell_type": "markdown",
      "metadata": {
        "id": "view-in-github",
        "colab_type": "text"
      },
      "source": [
        "<a href=\"https://colab.research.google.com/github/tonykipkemboi/Yelp-Review-Sentiment-Analysis/blob/main/Kenyan_Embassy_BERT_Sentiment_Analysis.ipynb\" target=\"_parent\"><img src=\"https://colab.research.google.com/assets/colab-badge.svg\" alt=\"Open In Colab\"/></a>"
      ]
    },
    {
      "cell_type": "markdown",
      "metadata": {
        "id": "H17wGFE7NgrR"
      },
      "source": [
        "# Install & Import Dependencies"
      ]
    },
    {
      "cell_type": "code",
      "metadata": {
        "id": "KP82gp6PEB6m"
      },
      "source": [
        "!pip3 install torch==1.9.0+cu111 torchvision==0.10.0+cu111 torchaudio===0.9.0 -f https://download.pytorch.org/whl/torch_stable.html"
      ],
      "execution_count": null,
      "outputs": []
    },
    {
      "cell_type": "code",
      "metadata": {
        "id": "2pT5pYNQF7Nc"
      },
      "source": [
        "!pip3 install transformers requests beautifulsoup4 pandas numpy"
      ],
      "execution_count": null,
      "outputs": []
    },
    {
      "cell_type": "code",
      "metadata": {
        "id": "1sxlUoG_DtMh"
      },
      "source": [
        "from transformers import AutoTokenizer, AutoModelForSequenceClassification\n",
        "import torch\n",
        "import requests\n",
        "from bs4 import BeautifulSoup\n",
        "import numpy as np\n",
        "import pandas as pd\n",
        "import re"
      ],
      "execution_count": 3,
      "outputs": []
    },
    {
      "cell_type": "markdown",
      "metadata": {
        "id": "Eq3ANddSNu7O"
      },
      "source": [
        "# Instantiate Model"
      ]
    },
    {
      "cell_type": "code",
      "metadata": {
        "id": "pGcgfGtdFkMW"
      },
      "source": [
        "tokenizer = AutoTokenizer.from_pretrained('nlptown/bert-base-multilingual-uncased-sentiment')\n",
        "\n",
        "model = AutoModelForSequenceClassification.from_pretrained('nlptown/bert-base-multilingual-uncased-sentiment')"
      ],
      "execution_count": null,
      "outputs": []
    },
    {
      "cell_type": "markdown",
      "metadata": {
        "id": "uo6VVKjyOfWi"
      },
      "source": [
        "# Encode & Calculate Sentiment"
      ]
    },
    {
      "cell_type": "code",
      "metadata": {
        "id": "Y7x65O0GETxr"
      },
      "source": [
        "tokens = tokenizer.encode('love', return_tensors='pt')"
      ],
      "execution_count": 5,
      "outputs": []
    },
    {
      "cell_type": "code",
      "metadata": {
        "id": "o5mg6uXGEYNc"
      },
      "source": [
        "result = model(tokens)"
      ],
      "execution_count": 6,
      "outputs": []
    },
    {
      "cell_type": "code",
      "metadata": {
        "colab": {
          "base_uri": "https://localhost:8080/"
        },
        "id": "seQxuJveEbDL",
        "outputId": "376221b4-8aa8-4f3f-f8b7-4b1788e8aecc"
      },
      "source": [
        "result.logits"
      ],
      "execution_count": 28,
      "outputs": [
        {
          "output_type": "execute_result",
          "data": {
            "text/plain": [
              "tensor([[-1.4507, -1.5098, -0.3014,  0.8204,  1.9042]],\n",
              "       grad_fn=<AddmmBackward>)"
            ]
          },
          "metadata": {
            "tags": []
          },
          "execution_count": 28
        }
      ]
    },
    {
      "cell_type": "code",
      "metadata": {
        "colab": {
          "base_uri": "https://localhost:8080/"
        },
        "id": "61w0vVz-EdAw",
        "outputId": "59299dcc-c8f3-464f-c175-9d8086f59397"
      },
      "source": [
        "int(torch.argmax(result.logits))+1"
      ],
      "execution_count": 8,
      "outputs": [
        {
          "output_type": "execute_result",
          "data": {
            "text/plain": [
              "5"
            ]
          },
          "metadata": {
            "tags": []
          },
          "execution_count": 8
        }
      ]
    },
    {
      "cell_type": "markdown",
      "metadata": {
        "id": "IjsWqlxGOmqu"
      },
      "source": [
        "# Collect Reviews"
      ]
    },
    {
      "cell_type": "code",
      "metadata": {
        "id": "98f4RIOWFQjv"
      },
      "source": [
        "r = requests.get('https://www.yelp.com/biz/embassy-of-kenya-washington')\n",
        "soup = BeautifulSoup(r.text, 'html.parser')\n",
        "regex = re.compile('.*comment.*')\n",
        "results = soup.find_all('p', {'class':regex})\n",
        "reviews = [result.text for result in results]"
      ],
      "execution_count": 9,
      "outputs": []
    },
    {
      "cell_type": "code",
      "metadata": {
        "colab": {
          "base_uri": "https://localhost:8080/",
          "height": 52
        },
        "id": "phZ45qdzKJkG",
        "outputId": "a54fc290-a467-431f-ec0c-0ddb17d2540c"
      },
      "source": [
        "reviews[0]"
      ],
      "execution_count": 10,
      "outputs": [
        {
          "output_type": "execute_result",
          "data": {
            "application/vnd.google.colaboratory.intrinsic+json": {
              "type": "string"
            },
            "text/plain": [
              "'I expected mediocre service and bad attitudes when I visited there but instead I was surprised by the professionalism of the staff there. They were very helpful and patient when dealing with customers and not at all what we are used to. I was shocked and amazed, and I want to congratulate them on a job well done.'"
            ]
          },
          "metadata": {
            "tags": []
          },
          "execution_count": 10
        }
      ]
    },
    {
      "cell_type": "markdown",
      "metadata": {
        "id": "jo0i6zeMOttv"
      },
      "source": [
        "# Load Reviews into DataFrame & Score"
      ]
    },
    {
      "cell_type": "code",
      "metadata": {
        "id": "-OBS4dTEFXLZ",
        "colab": {
          "base_uri": "https://localhost:8080/",
          "height": 204
        },
        "outputId": "74a4b397-e4a7-413a-c566-0132196fe4cb"
      },
      "source": [
        "df = pd.DataFrame(np.array(reviews), columns=['REVIEW'])\n",
        "df.tail()"
      ],
      "execution_count": 17,
      "outputs": [
        {
          "output_type": "execute_result",
          "data": {
            "text/html": [
              "<div>\n",
              "<style scoped>\n",
              "    .dataframe tbody tr th:only-of-type {\n",
              "        vertical-align: middle;\n",
              "    }\n",
              "\n",
              "    .dataframe tbody tr th {\n",
              "        vertical-align: top;\n",
              "    }\n",
              "\n",
              "    .dataframe thead th {\n",
              "        text-align: right;\n",
              "    }\n",
              "</style>\n",
              "<table border=\"1\" class=\"dataframe\">\n",
              "  <thead>\n",
              "    <tr style=\"text-align: right;\">\n",
              "      <th></th>\n",
              "      <th>REVIEW</th>\n",
              "    </tr>\n",
              "  </thead>\n",
              "  <tbody>\n",
              "    <tr>\n",
              "      <th>3</th>\n",
              "      <td>Useless Useless Useless. Don't expect any help...</td>\n",
              "    </tr>\n",
              "    <tr>\n",
              "      <th>4</th>\n",
              "      <td>The embassy decided to join in the tour so lat...</td>\n",
              "    </tr>\n",
              "    <tr>\n",
              "      <th>5</th>\n",
              "      <td>New rule for Kenyans abroad is that you must h...</td>\n",
              "    </tr>\n",
              "    <tr>\n",
              "      <th>6</th>\n",
              "      <td>Calls will NEVER be returned if you have a que...</td>\n",
              "    </tr>\n",
              "    <tr>\n",
              "      <th>7</th>\n",
              "      <td>Well, when my aunt visited Kenya last year, sh...</td>\n",
              "    </tr>\n",
              "  </tbody>\n",
              "</table>\n",
              "</div>"
            ],
            "text/plain": [
              "                                              REVIEW\n",
              "3  Useless Useless Useless. Don't expect any help...\n",
              "4  The embassy decided to join in the tour so lat...\n",
              "5  New rule for Kenyans abroad is that you must h...\n",
              "6  Calls will NEVER be returned if you have a que...\n",
              "7  Well, when my aunt visited Kenya last year, sh..."
            ]
          },
          "metadata": {
            "tags": []
          },
          "execution_count": 17
        }
      ]
    },
    {
      "cell_type": "code",
      "metadata": {
        "colab": {
          "base_uri": "https://localhost:8080/",
          "height": 52
        },
        "id": "lcpROqNnLf2J",
        "outputId": "b745c9dc-a44b-44bd-cc70-991297f3479f"
      },
      "source": [
        "df['REVIEW'].iloc[0]"
      ],
      "execution_count": 19,
      "outputs": [
        {
          "output_type": "execute_result",
          "data": {
            "application/vnd.google.colaboratory.intrinsic+json": {
              "type": "string"
            },
            "text/plain": [
              "'I expected mediocre service and bad attitudes when I visited there but instead I was surprised by the professionalism of the staff there. They were very helpful and patient when dealing with customers and not at all what we are used to. I was shocked and amazed, and I want to congratulate them on a job well done.'"
            ]
          },
          "metadata": {
            "tags": []
          },
          "execution_count": 19
        }
      ]
    },
    {
      "cell_type": "code",
      "metadata": {
        "id": "i2dpqQNdLtmm"
      },
      "source": [
        "def sentiment_score(review):\n",
        "  tokens = tokenizer.encode(review, return_tensors='pt')\n",
        "  result = model(tokens)\n",
        "  return int(torch.argmax(result.logits))+1"
      ],
      "execution_count": 20,
      "outputs": []
    },
    {
      "cell_type": "code",
      "metadata": {
        "colab": {
          "base_uri": "https://localhost:8080/"
        },
        "id": "1lp3RqFKMMIs",
        "outputId": "d2084b29-b954-4f94-e3c9-d8d2e8c9708f"
      },
      "source": [
        "sentiment_score(df['REVIEW'].iloc[1])"
      ],
      "execution_count": 21,
      "outputs": [
        {
          "output_type": "execute_result",
          "data": {
            "text/plain": [
              "1"
            ]
          },
          "metadata": {
            "tags": []
          },
          "execution_count": 21
        }
      ]
    },
    {
      "cell_type": "code",
      "metadata": {
        "id": "dwH9OQrfMX7k"
      },
      "source": [
        "df['SENTIMENT'] = df['REVIEW'].apply(lambda x: sentiment_score(x[:512]))"
      ],
      "execution_count": 22,
      "outputs": []
    },
    {
      "cell_type": "code",
      "metadata": {
        "colab": {
          "base_uri": "https://localhost:8080/",
          "height": 297
        },
        "id": "wC8zWqTxM38_",
        "outputId": "86d026bb-f256-4f68-ada0-c782029e1f0f"
      },
      "source": [
        "display(df)"
      ],
      "execution_count": 27,
      "outputs": [
        {
          "output_type": "display_data",
          "data": {
            "text/html": [
              "<div>\n",
              "<style scoped>\n",
              "    .dataframe tbody tr th:only-of-type {\n",
              "        vertical-align: middle;\n",
              "    }\n",
              "\n",
              "    .dataframe tbody tr th {\n",
              "        vertical-align: top;\n",
              "    }\n",
              "\n",
              "    .dataframe thead th {\n",
              "        text-align: right;\n",
              "    }\n",
              "</style>\n",
              "<table border=\"1\" class=\"dataframe\">\n",
              "  <thead>\n",
              "    <tr style=\"text-align: right;\">\n",
              "      <th></th>\n",
              "      <th>REVIEW</th>\n",
              "      <th>SENTIMENT</th>\n",
              "    </tr>\n",
              "  </thead>\n",
              "  <tbody>\n",
              "    <tr>\n",
              "      <th>0</th>\n",
              "      <td>I expected mediocre service and bad attitudes ...</td>\n",
              "      <td>4</td>\n",
              "    </tr>\n",
              "    <tr>\n",
              "      <th>1</th>\n",
              "      <td>People were waiting before 10 am. They didn't ...</td>\n",
              "      <td>1</td>\n",
              "    </tr>\n",
              "    <tr>\n",
              "      <th>2</th>\n",
              "      <td>Calls and emails never get answered! Applied f...</td>\n",
              "      <td>1</td>\n",
              "    </tr>\n",
              "    <tr>\n",
              "      <th>3</th>\n",
              "      <td>Useless Useless Useless. Don't expect any help...</td>\n",
              "      <td>1</td>\n",
              "    </tr>\n",
              "    <tr>\n",
              "      <th>4</th>\n",
              "      <td>The embassy decided to join in the tour so lat...</td>\n",
              "      <td>2</td>\n",
              "    </tr>\n",
              "    <tr>\n",
              "      <th>5</th>\n",
              "      <td>New rule for Kenyans abroad is that you must h...</td>\n",
              "      <td>1</td>\n",
              "    </tr>\n",
              "    <tr>\n",
              "      <th>6</th>\n",
              "      <td>Calls will NEVER be returned if you have a que...</td>\n",
              "      <td>1</td>\n",
              "    </tr>\n",
              "    <tr>\n",
              "      <th>7</th>\n",
              "      <td>Well, when my aunt visited Kenya last year, sh...</td>\n",
              "      <td>4</td>\n",
              "    </tr>\n",
              "  </tbody>\n",
              "</table>\n",
              "</div>"
            ],
            "text/plain": [
              "                                              REVIEW  SENTIMENT\n",
              "0  I expected mediocre service and bad attitudes ...          4\n",
              "1  People were waiting before 10 am. They didn't ...          1\n",
              "2  Calls and emails never get answered! Applied f...          1\n",
              "3  Useless Useless Useless. Don't expect any help...          1\n",
              "4  The embassy decided to join in the tour so lat...          2\n",
              "5  New rule for Kenyans abroad is that you must h...          1\n",
              "6  Calls will NEVER be returned if you have a que...          1\n",
              "7  Well, when my aunt visited Kenya last year, sh...          4"
            ]
          },
          "metadata": {
            "tags": []
          }
        }
      ]
    },
    {
      "cell_type": "code",
      "metadata": {
        "colab": {
          "base_uri": "https://localhost:8080/",
          "height": 52
        },
        "id": "s_nBnC6oNCVP",
        "outputId": "71b69614-ecf7-4f11-ef64-77fb9c1309ab"
      },
      "source": [
        "# Review #1\n",
        "df['review'].iloc[0]"
      ],
      "execution_count": null,
      "outputs": [
        {
          "output_type": "execute_result",
          "data": {
            "application/vnd.google.colaboratory.intrinsic+json": {
              "type": "string"
            },
            "text/plain": [
              "'I expected mediocre service and bad attitudes when I visited there but instead I was surprised by the professionalism of the staff there. They were very helpful and patient when dealing with customers and not at all what we are used to. I was shocked and amazed, and I want to congratulate them on a job well done.'"
            ]
          },
          "metadata": {
            "tags": []
          },
          "execution_count": 19
        }
      ]
    },
    {
      "cell_type": "code",
      "metadata": {
        "colab": {
          "base_uri": "https://localhost:8080/",
          "height": 52
        },
        "id": "IXCIWoSEROM8",
        "outputId": "28a1d126-900e-4669-e0bc-15fdf835c62a"
      },
      "source": [
        "# Review #2\n",
        "df['review'].iloc[1]"
      ],
      "execution_count": null,
      "outputs": [
        {
          "output_type": "execute_result",
          "data": {
            "application/vnd.google.colaboratory.intrinsic+json": {
              "type": "string"
            },
            "text/plain": [
              "\"People were waiting before 10 am. They didn't allow us to view till 10:15 and only in their driveway and small side yard.Goods for sale and food. Ten dollars for a plate and I didn't like any of it. We were given a taste of tea and coffee. I got a cup of local lavender tea for a keurig machine. \\xa0Disappointing.\""
            ]
          },
          "metadata": {
            "tags": []
          },
          "execution_count": 20
        }
      ]
    },
    {
      "cell_type": "code",
      "metadata": {
        "colab": {
          "base_uri": "https://localhost:8080/",
          "height": 52
        },
        "id": "3P9tiGzpRQUf",
        "outputId": "008a4fd6-efa7-4a84-fe46-7d6811d33d43"
      },
      "source": [
        "# Review #3\n",
        "df['review'].iloc[2]"
      ],
      "execution_count": null,
      "outputs": [
        {
          "output_type": "execute_result",
          "data": {
            "application/vnd.google.colaboratory.intrinsic+json": {
              "type": "string"
            },
            "text/plain": [
              "\"Calls and emails never get answered! Applied for Kenyan passport in January 2020 and this is August, no response yet! Even with Covid 19, it shouldn't take this long!! Some folks applied for ID's in January 2020 at this embassy in person, not yet received them. Were promised to be ready in 6 to 8 weeks, cargo planes are still flying from kenya to usa and vice versa, what's the hold up??\""
            ]
          },
          "metadata": {
            "tags": []
          },
          "execution_count": 21
        }
      ]
    },
    {
      "cell_type": "code",
      "metadata": {
        "colab": {
          "base_uri": "https://localhost:8080/",
          "height": 35
        },
        "id": "-TB4hYmURROH",
        "outputId": "5f9adc4a-07cd-4aaa-a16f-31b4c6822198"
      },
      "source": [
        "# Review #4\n",
        "df['review'].iloc[3]"
      ],
      "execution_count": null,
      "outputs": [
        {
          "output_type": "execute_result",
          "data": {
            "application/vnd.google.colaboratory.intrinsic+json": {
              "type": "string"
            },
            "text/plain": [
              "\"Useless Useless Useless. Don't expect any help with anything. I called twice and got no where. I emailed and got no where. What is the point of this embassy???\""
            ]
          },
          "metadata": {
            "tags": []
          },
          "execution_count": 22
        }
      ]
    },
    {
      "cell_type": "code",
      "metadata": {
        "colab": {
          "base_uri": "https://localhost:8080/",
          "height": 52
        },
        "id": "YqOKjNDPRSve",
        "outputId": "936c694e-5e2c-48c7-f510-a51924436cdb"
      },
      "source": [
        "# Review #5\n",
        "df['review'].iloc[4]"
      ],
      "execution_count": null,
      "outputs": [
        {
          "output_type": "execute_result",
          "data": {
            "application/vnd.google.colaboratory.intrinsic+json": {
              "type": "string"
            },
            "text/plain": [
              "\"The embassy decided to join in the tour so late that they didn't even make it into the tour brochure. \\xa0I wish I had walked to the front of the line to notice that we weren't even going inside the embassy. \\xa0We waited 45 minutes to walk to the side of the embassy. \\xa0The pictures on display were beautiful. \\xa0The embassy had run out of food and drinks. \\xa0It was disappointing.\""
            ]
          },
          "metadata": {
            "tags": []
          },
          "execution_count": 23
        }
      ]
    },
    {
      "cell_type": "code",
      "metadata": {
        "colab": {
          "base_uri": "https://localhost:8080/",
          "height": 103
        },
        "id": "7N8cUk4jRSUe",
        "outputId": "65f1932c-761c-4dc3-8288-0757de3f666e"
      },
      "source": [
        "# Review #6\n",
        "df['review'].iloc[5]"
      ],
      "execution_count": null,
      "outputs": [
        {
          "output_type": "execute_result",
          "data": {
            "application/vnd.google.colaboratory.intrinsic+json": {
              "type": "string"
            },
            "text/plain": [
              "'New rule for Kenyans abroad is that you must have a current Kenyan ID.There is NO rules or directions for the requirement to get this ID that would be ONLY valid in Kenya should you need to own property. I was advised over the phone to fly over 1000miles in order to have my fingerprints taken. \\xa0So I did only to get there and since I am married to an American that they needed my American husbands fingerprints WHAT? WHY? so my trip to DC was useless now who is going to compensate my unwanted trip this is information 1. should have been listed on the website 2. could have been conveyed on the phone 3. explain why they need fingerprints of a none Kenyan. IF it is because of consent then they should have asked for an affidavit or his presence with witness of his signature. People get married and change names if they please. If my name is legal in the US, I have proof to be Kenyan by birth AND I have a current passport why would I need proof of who I am after all this how did I get my passport in the first place.DUE to this mess I recommend the Kenyan embassy in DC to review how they handle ANY one coming through for assistance by:1. be VERY clear of what is required when applying for what ever ID, passport etc.2.name change is nothing new and officials go with also know as to determine the person and if they are the same person.I would like to go further with this conversation to settle my particular issue and would like to know who would contact me or how to contact them.'"
            ]
          },
          "metadata": {
            "tags": []
          },
          "execution_count": 24
        }
      ]
    },
    {
      "cell_type": "code",
      "metadata": {
        "colab": {
          "base_uri": "https://localhost:8080/",
          "height": 35
        },
        "id": "Y_wl3GSQRR1r",
        "outputId": "4a179e29-bc8a-4b6b-98e7-829e2beae751"
      },
      "source": [
        "# Review #7\n",
        "df['review'].iloc[6]"
      ],
      "execution_count": null,
      "outputs": [
        {
          "output_type": "execute_result",
          "data": {
            "application/vnd.google.colaboratory.intrinsic+json": {
              "type": "string"
            },
            "text/plain": [
              "'Calls will NEVER be returned if you have a questions. There is an answering machine that is no good if you cant get an answer. No live person during WORKING hours. I have to fly ALL the way to Washington DC just to get an answer.'"
            ]
          },
          "metadata": {
            "tags": []
          },
          "execution_count": 25
        }
      ]
    },
    {
      "cell_type": "code",
      "metadata": {
        "colab": {
          "base_uri": "https://localhost:8080/",
          "height": 35
        },
        "id": "zbMdk2leR3i1",
        "outputId": "27208a87-4f31-41f8-bde1-e47d31b97ae8"
      },
      "source": [
        "# Review #8\n",
        "df['review'].iloc[7]"
      ],
      "execution_count": null,
      "outputs": [
        {
          "output_type": "execute_result",
          "data": {
            "application/vnd.google.colaboratory.intrinsic+json": {
              "type": "string"
            },
            "text/plain": [
              "'Well, when my aunt visited Kenya last year, she had a great time - of course. \\xa0The embassy was there to make sure that she left here with little problem, and from what I was told it was a smooth trip.'"
            ]
          },
          "metadata": {
            "tags": []
          },
          "execution_count": 26
        }
      ]
    }
  ]
}